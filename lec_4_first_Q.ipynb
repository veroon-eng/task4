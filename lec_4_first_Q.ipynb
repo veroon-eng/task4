{
 "cells": [
  {
   "cell_type": "code",
   "execution_count": 1,
   "metadata": {},
   "outputs": [
    {
     "name": "stdout",
     "output_type": "stream",
     "text": [
      "12\n",
      "\n",
      "12\n",
      "\n",
      "12\n",
      "\n"
     ]
    }
   ],
   "source": [
    "file=open(\"D:/AI/test.txt\",\"w+\")\n",
    "for i in range (3 ):\n",
    "    x=file.write(\"hello world\\n\")\n",
    "    print(x )\n",
    "    v=file.read()\n",
    "    print(v)\n",
    "file.close()"
   ]
  },
  {
   "cell_type": "code",
   "execution_count": 2,
   "metadata": {},
   "outputs": [
    {
     "name": "stdout",
     "output_type": "stream",
     "text": [
      "12\n",
      "\n",
      "12\n",
      "\n",
      "12\n",
      "\n"
     ]
    }
   ],
   "source": [
    "file=open(\"D:/AI/test.txt\",\"a+\")\n",
    "for i in range (3 ):\n",
    "    v=\"hello world\\n\"\n",
    "    x=file.write(v.upper())\n",
    "    print(x)\n",
    "    v=file.read()\n",
    "    print(v)\n",
    "file.close()"
   ]
  },
  {
   "cell_type": "code",
   "execution_count": 3,
   "metadata": {},
   "outputs": [
    {
     "name": "stdout",
     "output_type": "stream",
     "text": [
      "Hello world\n",
      "\n"
     ]
    }
   ],
   "source": [
    "file=open(\"D:/AI/test.txt\",\"r\")\n",
    "x=file.readlines()\n",
    "z=x[3].capitalize()\n",
    "print(z)\n",
    "file.close()"
   ]
  },
  {
   "cell_type": "code",
   "execution_count": 4,
   "metadata": {},
   "outputs": [
    {
     "name": "stdout",
     "output_type": "stream",
     "text": [
      "13\n",
      "\n"
     ]
    }
   ],
   "source": [
    "file=open(\"D:/AI/test.txt\",\"a+\")\n",
    "x=file.write(\"i love python\")\n",
    "print(x)\n",
    "v=file.read()\n",
    "print(v)"
   ]
  },
  {
   "cell_type": "code",
   "execution_count": null,
   "metadata": {},
   "outputs": [],
   "source": []
  }
 ],
 "metadata": {
  "kernelspec": {
   "display_name": "Python 3",
   "language": "python",
   "name": "python3"
  },
  "language_info": {
   "codemirror_mode": {
    "name": "ipython",
    "version": 3
   },
   "file_extension": ".py",
   "mimetype": "text/x-python",
   "name": "python",
   "nbconvert_exporter": "python",
   "pygments_lexer": "ipython3",
   "version": "3.8.5"
  }
 },
 "nbformat": 4,
 "nbformat_minor": 4
}
